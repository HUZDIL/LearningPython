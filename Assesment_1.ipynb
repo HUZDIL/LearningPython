

#Task a
arr = []
for i in range(3):
     myList = input("please input your item")
     arr.append(myList)

print(arr)
print('===============================')


#Task b
list = [1,2,3,4,4,55,6,6]
newList = []

for i in list:

    if i not in newList:
         newList.append(i)

print(newList)
print('===============================')


#Task c
for i in range(1,5):
   print(i*i)

print('===============================')
#Task d

s1='heyhowareyou'
s2='hurray'
s3 = ''
for i in s1:
    if i not in s2:
     s3 += i

print(s3)






